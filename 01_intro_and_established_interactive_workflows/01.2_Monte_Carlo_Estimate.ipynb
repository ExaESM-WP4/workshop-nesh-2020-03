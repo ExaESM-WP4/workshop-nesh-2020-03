{
 "cells": [
  {
   "cell_type": "markdown",
   "metadata": {},
   "source": [
    "# Example problem: Monte-Carlo estimate of $\\pi$\n",
    "\n",
    "<img src=\"https://upload.wikimedia.org/wikipedia/commons/8/84/Pi_30K.gif\" width=\"25%\" align=left alt=\"PI monte-carlo estimate\"/>\n",
    "\n",
    "## Problem description\n",
    "\n",
    "Suppose we want to estimate the number $\\pi$ using a [Monte-Carlo method](https://en.wikipedia.org/wiki/Pi#Monte_Carlo_methods), i.e. obtain a numerical estimate based on a random sampling approach, and that we want at least single precision floating point accuracy.\n",
    "\n",
    "We take advantage of the fact that the area of a quarter circle with unit radius is $\\pi/4$ and that hence the probability of a randomly chosen point inside a unit square to lie within that circle is $\\pi/4$ as well.\n",
    "\n",
    "So for N randomly chosen pairs $(x, y)$ with $x\\in[0, 1)$ and $y\\in[0, 1)$ we count the number $N_{circ}$ of pairs that also satisfy $(x^2 + y^2) < 1$ and estimage $\\pi \\approx 4 \\cdot N_{circ} / N$.\n"
   ]
  },
  {
   "cell_type": "markdown",
   "metadata": {},
   "source": [
    "## Monte-Carlo estimate with NumPy on a single CPU\n",
    "\n",
    "* NumPy is the fundamental package for scientific computing with Python (https://numpy.org/).\n",
    "* It contains a powerful n-dimensional array object and useful random number capabilities."
   ]
  },
  {
   "cell_type": "code",
   "execution_count": 1,
   "metadata": {},
   "outputs": [],
   "source": [
    "import numpy"
   ]
  },
  {
   "cell_type": "code",
   "execution_count": 2,
   "metadata": {},
   "outputs": [],
   "source": [
    "def calculate_pi(size_in_bytes):\n",
    "    \n",
    "    \"\"\"Calculate pi using a Monte Carlo method.\"\"\"\n",
    "    \n",
    "    rand_array_shape = (int(size_in_bytes / 8 / 2), 2) # tuple\n",
    "    \n",
    "    # 2D random positions array\n",
    "    xy = numpy.random.uniform(low=0.0, high=1.0, size=rand_array_shape)\n",
    "    \n",
    "    xy_inside_circle = (xy ** 2).sum(axis=1) < 1 # boolean\n",
    "\n",
    "    pi = 4 * xy_inside_circle.sum() / xy_inside_circle.size\n",
    "\n",
    "    print(f\"\\nfrom {xy.nbytes / 1e9} GB randomly chosen positions\")\n",
    "    print(f\"   pi estimate: {pi}\")\n",
    "    print(f\"   pi error: {abs(pi - numpy.pi)}\\n\")\n",
    "    \n",
    "    return pi"
   ]
  },
  {
   "cell_type": "markdown",
   "metadata": {},
   "source": [
    "### Let's calculate...\n",
    "Observe how the pi error decreases with an increasing number of randomly chosen positions!"
   ]
  },
  {
   "cell_type": "code",
   "execution_count": 3,
   "metadata": {},
   "outputs": [
    {
     "name": "stdout",
     "output_type": "stream",
     "text": [
      "\n",
      "from 0.01 GB randomly chosen positions\n",
      "   pi estimate: 3.1421312\n",
      "   pi error: 0.0005385464102070081\n",
      "\n",
      "CPU times: user 101 ms, sys: 49.9 ms, total: 150 ms\n",
      "Wall time: 149 ms\n",
      "\n",
      "from 0.1 GB randomly chosen positions\n",
      "   pi estimate: 3.14295872\n",
      "   pi error: 0.0013660664102070896\n",
      "\n",
      "CPU times: user 1.06 s, sys: 510 ms, total: 1.57 s\n",
      "Wall time: 1.57 s\n",
      "\n",
      "from 1.0 GB randomly chosen positions\n",
      "   pi estimate: 3.141846592\n",
      "   pi error: 0.00025393841020671104\n",
      "\n",
      "CPU times: user 8.1 s, sys: 4.99 s, total: 13.1 s\n",
      "Wall time: 13.1 s\n"
     ]
    }
   ],
   "source": [
    "%time pi = calculate_pi(size_in_bytes=10_000_000) # 10 MB\n",
    "%time pi = calculate_pi(size_in_bytes=100_000_000) # 100 MB\n",
    "%time pi = calculate_pi(size_in_bytes=1_000_000_000) # 1 GB"
   ]
  },
  {
   "cell_type": "markdown",
   "metadata": {},
   "source": [
    "### Are we already better than single precision floating point resolution?"
   ]
  },
  {
   "cell_type": "code",
   "execution_count": 4,
   "metadata": {},
   "outputs": [
    {
     "data": {
      "text/plain": [
       "finfo(resolution=1e-06, min=-3.4028235e+38, max=3.4028235e+38, dtype=float32)"
      ]
     },
     "execution_count": 4,
     "metadata": {},
     "output_type": "execute_result"
    }
   ],
   "source": [
    "numpy.finfo(numpy.float32)"
   ]
  },
  {
   "cell_type": "markdown",
   "metadata": {},
   "source": [
    "## We won't be able to scale the problem to several Gigabytes or Terabytes!"
   ]
  },
  {
   "cell_type": "code",
   "execution_count": 5,
   "metadata": {},
   "outputs": [
    {
     "name": "stdout",
     "output_type": "stream",
     "text": [
      "\n",
      "from 10.0 GB randomly chosen positions\n",
      "   pi estimate: 3.1416073984\n",
      "   pi error: 1.4744810207023562e-05\n",
      "\n",
      "CPU times: user 1min 3s, sys: 49.2 s, total: 1min 52s\n",
      "Wall time: 1min 52s\n"
     ]
    }
   ],
   "source": [
    "%time pi = calculate_pi(size_in_bytes=10_000_000_000) # 10 GB"
   ]
  },
  {
   "cell_type": "code",
   "execution_count": 6,
   "metadata": {},
   "outputs": [],
   "source": [
    "# %time calculate_pi(size_in_bytes=100_000_000_000) # 100 GB\n",
    "# %time calculate_pi(size_in_bytes=1_000_000_000_000) # 1 TB\n",
    "# %time calculate_pi(size_in_bytes=10_000_000_000_000) # 10 TB"
   ]
  },
  {
   "cell_type": "markdown",
   "metadata": {},
   "source": [
    "### Problems\n",
    "\n",
    "* slowness of the numpy-only single CPU approach! (we could scale the problem using the [multiprocessing](https://docs.python.org/3.8/library/multiprocessing.html) and/or [threading](https://docs.python.org/3.8/library/threading.html) libraries)\n",
    "* frontend/login node compute resources are shared and CPU, memory (and IO bandwidth) user demands will collide"
   ]
  }
 ],
 "metadata": {
  "kernelspec": {
   "display_name": "Python [conda env:dask-minimal-20191218]",
   "language": "python",
   "name": "conda-env-dask-minimal-20191218-py"
  },
  "language_info": {
   "codemirror_mode": {
    "name": "ipython",
    "version": 3
   },
   "file_extension": ".py",
   "mimetype": "text/x-python",
   "name": "python",
   "nbconvert_exporter": "python",
   "pygments_lexer": "ipython3",
   "version": "3.8.0"
  }
 },
 "nbformat": 4,
 "nbformat_minor": 4
}
