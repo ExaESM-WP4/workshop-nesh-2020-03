{
 "cells": [
  {
   "cell_type": "markdown",
   "metadata": {},
   "source": [
    "# Workshop on interactive analyses on NESH"
   ]
  },
  {
   "cell_type": "markdown",
   "metadata": {},
   "source": [
    "## Jupyter on HPC\n",
    "\n",
    "### Setup of Jupyter env\n",
    "\n",
    "Follow [https://git.geomar.de/python/jupyter_on_HPC_setup_guide](https://git.geomar.de/python/jupyter_on_HPC_setup_guide#install-the-base-environment-and-jupyterlab) to install Conda-based environment with JupyterLab.\n",
    "Once `conda` is installed, the essential thing to to is:\n",
    "\n",
    "```shell\n",
    "# on the HPC system\n",
    "conda install -n base jupyterlab nb_conda_kernels\n",
    "```\n",
    "\n",
    "Then, add a conda environment containing the software used in your analysis:\n",
    "```shell\n",
    "# on the HPC system\n",
    "conda create -n python3_env -c conda-forge python=3.7 dask distributed dask-jobqueue matplotlib numpy scipy zarr ipykernel\n",
    "```\n",
    "_(**Note** the `ipykernel` package which allows for using this env as a Jupyter kernel.)_\n",
    "\n",
    "### Test by starting JupyterLab on frontend\n",
    "\n",
    "_(**Don't** work like this in production.)_\n",
    "\n",
    "\n",
    "On the frontend, start JupyterLab from the `base` environment:\n",
    "```shell\n",
    "# on HPC system\n",
    "conda activate base\n",
    "jupyter lab --ip 127.0.0.1\n",
    "```\n",
    "\n",
    "And open a web browser that proxies through an SSH tunnel (to the same frontend).\n",
    "[There's a script for this,](https://git.geomar.de/python/jupyter_on_HPC_setup_guide#wrapped-in-a-script) but the essentials are:\n",
    "\n",
    "```shell\n",
    "# on your laptop\n",
    "ssh -f -D localhost:54321 user@host.example.com sleep 15\n",
    "chromium-browser --proxy-server=\"socks5://localhost:54321\"\n",
    "```\n",
    "\n",
    "### Start Jupyter on a compute node\n",
    "\n",
    "[Check the guide for the job script.](https://git.geomar.de/python/jupyter_on_HPC_setup_guide#start-jupyterlab-on-a-compute-node-of-an-hpc-centre)\n",
    "\n",
    "On the HPC frontend, submit a job (noting the job-id):\n",
    "\n",
    "```shell\n",
    "# on the NESH frontend\n",
    "qsub nesh-linux-cluster-jupyterlab.sh \\\n",
    "    -l elapstim_req=<hh:mm:ss> \\\n",
    "    -b <node-no> \\\n",
    "    -l cpunum_job=<cpu-no> \\\n",
    "    -l memsz_job=<mem-size> \\\n",
    "    -q <batch-class>\n",
    "```\n",
    "\n",
    "And check if JupyterLab is ready (and learn about the URL to connect to):\n",
    "\n",
    "```shell\n",
    "# on the NESH frontend\n",
    "bash nesh-linux-cluster-jupyterlab.sh <jobid>\n",
    "```\n",
    "\n",
    "As soon as you got the JupyterLab URL, connect to it via the tunneled browser\n",
    "```shell\n",
    "# on your laptop\n",
    "bash run_chromium_through_ssh_tunnel.sh user@host.example.com <URL-from-JupyterLab>\n",
    "```\n"
   ]
  },
  {
   "cell_type": "markdown",
   "metadata": {},
   "source": [
    "## Example Problem for the rest of the first session\n",
    "\n",
    "Calculate the number $\\pi$ using a Monte Carlo method.\n",
    "\n",
    "We'll tackle the problem in different ways:\n",
    "\n",
    "- using a single CPU with Numpy\n",
    "\n",
    "- with Dask and parallelized on a single node or frontend\n",
    "\n",
    "- with Dask on many compute nodes"
   ]
  }
 ],
 "metadata": {
  "kernelspec": {
   "display_name": "Python 3",
   "language": "python",
   "name": "python3"
  },
  "language_info": {
   "codemirror_mode": {
    "name": "ipython",
    "version": 3
   },
   "file_extension": ".py",
   "mimetype": "text/x-python",
   "name": "python",
   "nbconvert_exporter": "python",
   "pygments_lexer": "ipython3",
   "version": "3.7.3"
  }
 },
 "nbformat": 4,
 "nbformat_minor": 4
}
